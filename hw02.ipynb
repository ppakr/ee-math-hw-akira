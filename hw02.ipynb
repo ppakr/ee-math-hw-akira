{
 "cells": [
  {
   "cell_type": "code",
   "execution_count": 63,
   "metadata": {},
   "outputs": [],
   "source": [
    "import numpy as np\n",
    "import scipy.linalg as linalg"
   ]
  },
  {
   "cell_type": "markdown",
   "metadata": {},
   "source": [
    "#5\n",
    "</br>\n",
    "Generate 5x5 matrix and create some random number from student id: 6210550614, so the number used will be 614."
   ]
  },
  {
   "cell_type": "code",
   "execution_count": 64,
   "metadata": {},
   "outputs": [
    {
     "name": "stdout",
     "output_type": "stream",
     "text": [
      "[[ 2.  1. -0.  0.  2.]\n",
      " [ 1.  1.  0.  1.  2.]\n",
      " [-0.  2. -0.  2.  2.]\n",
      " [ 1. -0.  1.  1.  2.]\n",
      " [ 2.  1.  2.  0.  2.]]\n"
     ]
    }
   ],
   "source": [
    "id_no = 614\n",
    "np.random.seed(seed=id_no)\n",
    "n = 5\n",
    "\n",
    "def random_matrix(n):\n",
    "    return np.round(3*np.random.rand(n,n)-0.5)\n",
    "\n",
    "A = random_matrix(n)\n",
    "print(A)"
   ]
  },
  {
   "cell_type": "code",
   "execution_count": 65,
   "metadata": {},
   "outputs": [
    {
     "name": "stdout",
     "output_type": "stream",
     "text": [
      "0.0\n"
     ]
    }
   ],
   "source": [
    "detA = np.linalg.det(A)\n",
    "print(detA)\n"
   ]
  },
  {
   "cell_type": "markdown",
   "metadata": {},
   "source": [
    "Find the determinant of A using cofactors.\n",
    "<br>\n",
    "ref: https://www.geeksforgeeks.org/determinant-of-a-matrix/"
   ]
  },
  {
   "cell_type": "code",
   "execution_count": 66,
   "metadata": {},
   "outputs": [
    {
     "name": "stdout",
     "output_type": "stream",
     "text": [
      "0.0\n",
      "The determinant is equal\n"
     ]
    }
   ],
   "source": [
    "# get cofactor of matrix m\n",
    "def get_cofactor(m, i, j):\n",
    "    \n",
    "    return np.delete(np.delete(m, i, axis=0), j, axis=1)\n",
    "\n",
    "# calculate determinant of the matrix\n",
    "def calculate_det(mat):\n",
    "\n",
    "    if(len(mat) == 2):\n",
    "        value = mat[0][0] * mat[1][1] - mat[1][0] * mat[0][1]\n",
    "        return value\n",
    "\n",
    "    Sum = 0\n",
    "\n",
    "    # create loop for each column in the matrix\n",
    "    for current_column in range(len(mat)):\n",
    "\n",
    "        # calculating the sign according to the cofactor\n",
    "        sign = (-1) ** (current_column)\n",
    "\n",
    "        # calculate sub det\n",
    "        sub_det = calculate_det(get_cofactor(mat, 0, current_column))\n",
    "\n",
    "        Sum += (sign * mat[0][current_column] * sub_det)\n",
    "\n",
    "    # returning the final Sum\n",
    "    return Sum\n",
    "\n",
    "find_det = calculate_det(A)\n",
    "print(find_det)\n",
    "\n",
    "# check is the answer is correct\n",
    "\n",
    "if (find_det == detA):\n",
    "    print(\"The determinant is equal\")\n",
    "else:\n",
    "    print(\"The determinant is not equal\")\n"
   ]
  },
  {
   "cell_type": "markdown",
   "metadata": {},
   "source": [
    "Next, calculate and compare the run time for each algorithm"
   ]
  },
  {
   "cell_type": "code",
   "execution_count": 67,
   "metadata": {},
   "outputs": [],
   "source": [
    "import time\n"
   ]
  },
  {
   "cell_type": "code",
   "execution_count": 74,
   "metadata": {},
   "outputs": [
    {
     "name": "stdout",
     "output_type": "stream",
     "text": [
      "5 x 5\n",
      "Computational time for numpy is 0.096 ms\n",
      "Computational time for cofactoris 5.098 ms\n",
      "Percent difference: 98.108 %\n",
      "The determinant is 0.0\n"
     ]
    }
   ],
   "source": [
    "# 5 x 5 matrix\n",
    "print(\"5 x 5\")\n",
    "\n",
    "# create a random matrix of dimension 5 x 5\n",
    "A = random_matrix(5)\n",
    "\n",
    "t1_np = time.process_time()\n",
    "npdet = np.linalg.det(A)\n",
    "t2_np = time.process_time()\n",
    "\n",
    "t_np = (t2_np - t1_np) * 1000\n",
    "print(f\"Computational time for numpy is {t_np:.3f} ms\")\n",
    "\n",
    "t1_co = time.process_time()\n",
    "codet = calculate_det(A)\n",
    "t2_co = time.process_time()\n",
    "\n",
    "t_co = (t2_co - t1_co) * 1000\n",
    "print(f\"Computational time for cofactoris {t_co:.3f} ms\")\n",
    "\n",
    "t_diff = np.abs(100 * (t_np - t_co) / t_co)\n",
    "\n",
    "print(f\"Percent difference: {t_diff:.3f} %\")\n",
    "\n",
    "if(npdet == codet):\n",
    "    print(f\"The determinant is {npdet}\")\n",
    "\n",
    "else:\n",
    "    print(f\"The determinant for numpy is {npdet}\")\n",
    "    print(f\"The determinant for cofactor is {codet}\")\n"
   ]
  },
  {
   "cell_type": "code",
   "execution_count": 69,
   "metadata": {},
   "outputs": [
    {
     "name": "stdout",
     "output_type": "stream",
     "text": [
      "6 x 6\n",
      "Computational time for numpy is 0.089 ms\n",
      "Computational time for cofactoris 21.786 ms\n",
      "Percent difference: 99.592 %\n",
      "The determinant for numpy is -27.999999999999986\n",
      "The determinant for cofactor is -28.0\n"
     ]
    }
   ],
   "source": [
    "# 6 x 6 matrix\n",
    "print(\"6 x 6\")\n",
    "\n",
    "# create a random matrix of dimension 6 x 6\n",
    "A = random_matrix(6)\n",
    "\n",
    "t1_np = time.process_time()\n",
    "npdet = np.linalg.det(A)\n",
    "t2_np = time.process_time()\n",
    "\n",
    "t_np = (t2_np - t1_np) * 1000\n",
    "print(f\"Computational time for numpy is {t_np:.3f} ms\")\n",
    "\n",
    "t1_co = time.process_time()\n",
    "codet = calculate_det(A)\n",
    "t2_co = time.process_time()\n",
    "\n",
    "t_co = (t2_co - t1_co) * 1000\n",
    "print(f\"Computational time for cofactoris {t_co:.3f} ms\")\n",
    "\n",
    "t_diff = np.abs(100 * (t_np - t_co) / t_co)\n",
    "\n",
    "print(f\"Percent difference: {t_diff:.3f} %\")\n",
    "\n",
    "if(npdet == codet):\n",
    "    print(f\"The determinant is {npdet}\")\n",
    "\n",
    "else:\n",
    "    print(f\"The determinant for numpy is {npdet}\")\n",
    "    print(f\"The determinant for cofactor is {codet}\")\n"
   ]
  },
  {
   "cell_type": "code",
   "execution_count": 70,
   "metadata": {},
   "outputs": [
    {
     "name": "stdout",
     "output_type": "stream",
     "text": [
      "7 x 7\n",
      "Computational time for numpy is 0.129 ms\n",
      "Computational time for cofactoris 55.667 ms\n",
      "Percent difference: 99.769 %\n",
      "The determinant for numpy is 59.999999999999986\n",
      "The determinant for cofactor is 60.0\n"
     ]
    }
   ],
   "source": [
    "# 7 x 7 matrix\n",
    "print(\"7 x 7\")\n",
    "\n",
    "# create a random matrix of dimension 7 x 7\n",
    "A = random_matrix(7)\n",
    "\n",
    "t1_np = time.process_time()\n",
    "npdet = np.linalg.det(A)\n",
    "t2_np = time.process_time()\n",
    "\n",
    "t_np = (t2_np - t1_np) * 1000\n",
    "print(f\"Computational time for numpy is {t_np:.3f} ms\")\n",
    "\n",
    "t1_co = time.process_time()\n",
    "codet = calculate_det(A)\n",
    "t2_co = time.process_time()\n",
    "\n",
    "t_co = (t2_co - t1_co) * 1000\n",
    "print(f\"Computational time for cofactoris {t_co:.3f} ms\")\n",
    "\n",
    "t_diff = np.abs(100 * (t_np - t_co) / t_co)\n",
    "\n",
    "print(f\"Percent difference: {t_diff:.3f} %\")\n",
    "\n",
    "if(npdet == codet):\n",
    "    print(f\"The determinant is {npdet}\")\n",
    "\n",
    "else:\n",
    "    print(f\"The determinant for numpy is {npdet}\")\n",
    "    print(f\"The determinant for cofactor is {codet}\")\n"
   ]
  },
  {
   "cell_type": "code",
   "execution_count": 75,
   "metadata": {},
   "outputs": [
    {
     "name": "stdout",
     "output_type": "stream",
     "text": [
      "8 x 8\n",
      "Computational time for numpy is 0.140 ms\n",
      "Computational time for cofactoris 437.268 ms\n",
      "Percent difference: 99.968 %\n",
      "The determinant for numpy is 65.99999999999997\n",
      "The determinant for cofactor is 66.0\n"
     ]
    }
   ],
   "source": [
    "# 8 x 8 matrix\n",
    "print(\"8 x 8\")\n",
    "\n",
    "# create a random matrix of dimension 8 x 8\n",
    "A = random_matrix(8)\n",
    "\n",
    "t1_np = time.process_time()\n",
    "npdet = np.linalg.det(A)\n",
    "t2_np = time.process_time()\n",
    "\n",
    "t_np = (t2_np - t1_np) * 1000\n",
    "print(f\"Computational time for numpy is {t_np:.3f} ms\")\n",
    "\n",
    "t1_co = time.process_time()\n",
    "codet = calculate_det(A)\n",
    "t2_co = time.process_time()\n",
    "\n",
    "t_co = (t2_co - t1_co) * 1000\n",
    "print(f\"Computational time for cofactoris {t_co:.3f} ms\")\n",
    "\n",
    "t_diff = np.abs(100 * (t_np - t_co) / t_co)\n",
    "\n",
    "print(f\"Percent difference: {t_diff:.3f} %\")\n",
    "\n",
    "if(npdet == codet):\n",
    "    print(f\"The determinant is {npdet}\")\n",
    "\n",
    "else:\n",
    "    print(f\"The determinant for numpy is {npdet}\")\n",
    "    print(f\"The determinant for cofactor is {codet}\")\n"
   ]
  },
  {
   "cell_type": "code",
   "execution_count": 76,
   "metadata": {},
   "outputs": [
    {
     "name": "stdout",
     "output_type": "stream",
     "text": [
      "9 x 9\n",
      "Computational time for numpy is 0.098 ms\n",
      "Computational time for cofactoris 3177.178 ms\n",
      "Percent difference: 99.997 %\n",
      "The determinant for numpy is -21.00000000000001\n",
      "The determinant for cofactor is -21.0\n"
     ]
    }
   ],
   "source": [
    "# 9 x 9 matrix\n",
    "print(\"9 x 9\")\n",
    "\n",
    "# create a random matrix of dimension 9 x 9\n",
    "A = random_matrix(9)\n",
    "\n",
    "t1_np = time.process_time()\n",
    "npdet = np.linalg.det(A)\n",
    "t2_np = time.process_time()\n",
    "\n",
    "t_np = (t2_np - t1_np) * 1000\n",
    "print(f\"Computational time for numpy is {t_np:.3f} ms\")\n",
    "\n",
    "t1_co = time.process_time()\n",
    "codet = calculate_det(A)\n",
    "t2_co = time.process_time()\n",
    "\n",
    "t_co = (t2_co - t1_co) * 1000\n",
    "print(f\"Computational time for cofactoris {t_co:.3f} ms\")\n",
    "\n",
    "t_diff = np.abs(100 * (t_np - t_co) / t_co)\n",
    "\n",
    "print(f\"Percent difference: {t_diff:.3f} %\")\n",
    "\n",
    "if(npdet == codet):\n",
    "    print(f\"The determinant is {npdet}\")\n",
    "\n",
    "else:\n",
    "    print(f\"The determinant for numpy is {npdet}\")\n",
    "    print(f\"The determinant for cofactor is {codet}\")\n"
   ]
  },
  {
   "cell_type": "code",
   "execution_count": 77,
   "metadata": {},
   "outputs": [
    {
     "name": "stdout",
     "output_type": "stream",
     "text": [
      "10 x 10\n",
      "Computational time for numpy is 0.108 ms\n",
      "Computational time for cofactoris 29708.580 ms\n",
      "Percent difference: 100.000 %\n",
      "The determinant for numpy is 161.99999999999994\n",
      "The determinant for cofactor is 162.0\n"
     ]
    }
   ],
   "source": [
    "# 10 x 10 matrix\n",
    "print(\"10 x 10\")\n",
    "\n",
    "# create a random matrix of dimension 10 x 10\n",
    "A = random_matrix(10)\n",
    "\n",
    "t1_np = time.process_time()\n",
    "npdet = np.linalg.det(A)\n",
    "t2_np = time.process_time()\n",
    "\n",
    "t_np = (t2_np - t1_np) * 1000\n",
    "print(f\"Computational time for numpy is {t_np:.3f} ms\")\n",
    "\n",
    "t1_co = time.process_time()\n",
    "codet = calculate_det(A)\n",
    "t2_co = time.process_time()\n",
    "\n",
    "t_co = (t2_co - t1_co) * 1000\n",
    "print(f\"Computational time for cofactoris {t_co:.3f} ms\")\n",
    "\n",
    "t_diff = np.abs(100 * (t_np - t_co) / t_co)\n",
    "\n",
    "print(f\"Percent difference: {t_diff:.3f} %\")\n",
    "\n",
    "if(npdet == codet):\n",
    "    print(f\"The determinant is {npdet}\")\n",
    "\n",
    "else:\n",
    "    print(f\"The determinant for numpy is {npdet}\")\n",
    "    print(f\"The determinant for cofactor is {codet}\")\n"
   ]
  }
 ],
 "metadata": {
  "kernelspec": {
   "display_name": "Python 3.6.9 64-bit",
   "language": "python",
   "name": "python3"
  },
  "language_info": {
   "codemirror_mode": {
    "name": "ipython",
    "version": 3
   },
   "file_extension": ".py",
   "mimetype": "text/x-python",
   "name": "python",
   "nbconvert_exporter": "python",
   "pygments_lexer": "ipython3",
   "version": "3.8.10"
  },
  "orig_nbformat": 4,
  "vscode": {
   "interpreter": {
    "hash": "31f2aee4e71d21fbe5cf8b01ff0e069b9275f58929596ceb00d14d90e3e16cd6"
   }
  }
 },
 "nbformat": 4,
 "nbformat_minor": 2
}
