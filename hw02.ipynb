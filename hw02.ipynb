{
 "cells": [
  {
   "cell_type": "code",
   "execution_count": 145,
   "metadata": {},
   "outputs": [],
   "source": [
    "import numpy as np\n",
    "import scipy.linalg as linalg"
   ]
  },
  {
   "cell_type": "markdown",
   "metadata": {},
   "source": [
    "#5\n",
    "</br>\n",
    "Generate 5x5 matrix and create some random number from student id: 6210550614, so the number used will be 614."
   ]
  },
  {
   "cell_type": "code",
   "execution_count": 146,
   "metadata": {},
   "outputs": [
    {
     "name": "stdout",
     "output_type": "stream",
     "text": [
      "[[ 2.  1. -0.  0.  2.]\n",
      " [ 1.  1.  0.  1.  2.]\n",
      " [-0.  2. -0.  2.  2.]\n",
      " [ 1. -0.  1.  1.  2.]\n",
      " [ 2.  1.  2.  0.  2.]]\n"
     ]
    }
   ],
   "source": [
    "id_no = 614\n",
    "np.random.seed(seed=id_no)\n",
    "n=5\n",
    "A = np.round(3*np.random.rand(n,n)-0.5)\n",
    "print(A)"
   ]
  },
  {
   "cell_type": "code",
   "execution_count": 147,
   "metadata": {},
   "outputs": [
    {
     "name": "stdout",
     "output_type": "stream",
     "text": [
      "0.0\n"
     ]
    }
   ],
   "source": [
    "detA = np.linalg.det(A)\n",
    "print(detA)\n"
   ]
  },
  {
   "cell_type": "markdown",
   "metadata": {},
   "source": [
    "Find the determinant of A using cofactors.\n",
    "<br>\n",
    "ref: https://www.geeksforgeeks.org/determinant-of-a-matrix/"
   ]
  },
  {
   "cell_type": "code",
   "execution_count": 150,
   "metadata": {},
   "outputs": [
    {
     "name": "stdout",
     "output_type": "stream",
     "text": [
      "0.0\n"
     ]
    }
   ],
   "source": [
    "# python program to find\n",
    "# determinant of matrix.\n",
    "\n",
    "# defining a function to get the\n",
    "# minor matrix after excluding\n",
    "# i-th row and j-th column.\n",
    "\n",
    "\n",
    "def getcofactor(m, i, j):\n",
    "    \n",
    "    return np.delete(np.delete(m, i, axis=0), j, axis=1)\n",
    "\n",
    "# defining the function to\n",
    "# calculate determinant value\n",
    "# of given matrix a.\n",
    "\n",
    "\n",
    "def determinantOfMatrix(mat):\n",
    "\n",
    "    # if given matrix is of order\n",
    "    # 2*2 then simply return det\n",
    "    # value by cross multiplying\n",
    "    # elements of matrix.\n",
    "    if(len(mat) == 2):\n",
    "        value = mat[0][0] * mat[1][1] - mat[1][0] * mat[0][1]\n",
    "        return value\n",
    "\n",
    "    # initialize Sum to zero\n",
    "    Sum = 0\n",
    "\n",
    "    # loop to traverse each column\n",
    "    # of matrix a.\n",
    "    for current_column in range(len(mat)):\n",
    "\n",
    "        # calculating the sign corresponding\n",
    "        # to co-factor of that sub matrix.\n",
    "        sign = (-1) ** (current_column)\n",
    "\n",
    "        # calling the function recursily to\n",
    "        # get determinant value of\n",
    "        # sub matrix obtained.\n",
    "        sub_det = determinantOfMatrix(getcofactor(mat, 0, current_column))\n",
    "\n",
    "        # adding the calculated determinant\n",
    "        # value of particular column\n",
    "        # matrix to total Sum.\n",
    "        Sum += (sign * mat[0][current_column] * sub_det)\n",
    "\n",
    "    # returning the final Sum\n",
    "    return Sum\n",
    "\n",
    "find_det = determinantOfMatrix(A)\n",
    "print(find_det)\n"
   ]
  }
 ],
 "metadata": {
  "kernelspec": {
   "display_name": "Python 3.6.9 64-bit",
   "language": "python",
   "name": "python3"
  },
  "language_info": {
   "codemirror_mode": {
    "name": "ipython",
    "version": 3
   },
   "file_extension": ".py",
   "mimetype": "text/x-python",
   "name": "python",
   "nbconvert_exporter": "python",
   "pygments_lexer": "ipython3",
   "version": "3.8.10"
  },
  "orig_nbformat": 4,
  "vscode": {
   "interpreter": {
    "hash": "31f2aee4e71d21fbe5cf8b01ff0e069b9275f58929596ceb00d14d90e3e16cd6"
   }
  }
 },
 "nbformat": 4,
 "nbformat_minor": 2
}
