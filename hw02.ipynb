{
 "cells": [
  {
   "cell_type": "code",
   "execution_count": 9,
   "metadata": {},
   "outputs": [],
   "source": [
    "import numpy as np\n",
    "import scipy.linalg as linalg"
   ]
  },
  {
   "cell_type": "markdown",
   "metadata": {},
   "source": [
    "#5\n",
    "</br>\n",
    "Generate 5x5 matrix and create some random number from student id: 6210550614, so the number used will be 614."
   ]
  },
  {
   "cell_type": "code",
   "execution_count": 10,
   "metadata": {},
   "outputs": [
    {
     "name": "stdout",
     "output_type": "stream",
     "text": [
      "[[ 2.  1. -0.  0.  2.]\n",
      " [ 1.  1.  0.  1.  2.]\n",
      " [-0.  2. -0.  2.  2.]\n",
      " [ 1. -0.  1.  1.  2.]\n",
      " [ 2.  1.  2.  0.  2.]]\n"
     ]
    }
   ],
   "source": [
    "id_no = 614\n",
    "np.random.seed(seed=id_no)\n",
    "n = 5\n",
    "\n",
    "def random_matrix(n):\n",
    "    return np.round(3*np.random.rand(n,n)-0.5)\n",
    "\n",
    "A = random_matrix(n)\n",
    "print(A)"
   ]
  },
  {
   "cell_type": "code",
   "execution_count": 11,
   "metadata": {},
   "outputs": [
    {
     "name": "stdout",
     "output_type": "stream",
     "text": [
      "0.0\n"
     ]
    }
   ],
   "source": [
    "detA = np.linalg.det(A)\n",
    "print(detA)\n"
   ]
  },
  {
   "cell_type": "markdown",
   "metadata": {},
   "source": [
    "Find the determinant of A using cofactors.\n",
    "<br>\n",
    "ref: https://www.geeksforgeeks.org/determinant-of-a-matrix/"
   ]
  },
  {
   "cell_type": "code",
   "execution_count": 13,
   "metadata": {},
   "outputs": [
    {
     "name": "stdout",
     "output_type": "stream",
     "text": [
      "0.0\n",
      "The determinant is equal\n"
     ]
    }
   ],
   "source": [
    "# get cofactor of matrix m\n",
    "def getcofactor(m, i, j):\n",
    "    \n",
    "    return np.delete(np.delete(m, i, axis=0), j, axis=1)\n",
    "\n",
    "# calculate determinant of the matrix\n",
    "def determinantOfMatrix(mat):\n",
    "\n",
    "    if(len(mat) == 2):\n",
    "        value = mat[0][0] * mat[1][1] - mat[1][0] * mat[0][1]\n",
    "        return value\n",
    "\n",
    "    Sum = 0\n",
    "\n",
    "    # create loop for each column in the matrix\n",
    "    for current_column in range(len(mat)):\n",
    "\n",
    "        # calculating the sign according to the cofactor\n",
    "        sign = (-1) ** (current_column)\n",
    "\n",
    "        # calculate sub det\n",
    "        sub_det = determinantOfMatrix(getcofactor(mat, 0, current_column))\n",
    "\n",
    "        Sum += (sign * mat[0][current_column] * sub_det)\n",
    "\n",
    "    # returning the final Sum\n",
    "    return Sum\n",
    "\n",
    "find_det = determinantOfMatrix(A)\n",
    "print(find_det)\n",
    "\n",
    "# check is the answer is correct\n",
    "\n",
    "if (find_det == detA):\n",
    "    print(\"The determinant is equal\")\n",
    "else:\n",
    "    print(\"The determinant is not equal\")\n"
   ]
  },
  {
   "cell_type": "markdown",
   "metadata": {},
   "source": [
    "Next, calculate and compare the run time for each algorithm"
   ]
  },
  {
   "cell_type": "code",
   "execution_count": null,
   "metadata": {},
   "outputs": [],
   "source": []
  }
 ],
 "metadata": {
  "kernelspec": {
   "display_name": "Python 3.6.9 64-bit",
   "language": "python",
   "name": "python3"
  },
  "language_info": {
   "codemirror_mode": {
    "name": "ipython",
    "version": 3
   },
   "file_extension": ".py",
   "mimetype": "text/x-python",
   "name": "python",
   "nbconvert_exporter": "python",
   "pygments_lexer": "ipython3",
   "version": "3.8.10"
  },
  "orig_nbformat": 4,
  "vscode": {
   "interpreter": {
    "hash": "31f2aee4e71d21fbe5cf8b01ff0e069b9275f58929596ceb00d14d90e3e16cd6"
   }
  }
 },
 "nbformat": 4,
 "nbformat_minor": 2
}
