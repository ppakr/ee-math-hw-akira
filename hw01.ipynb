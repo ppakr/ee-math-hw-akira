{
 "cells": [
  {
   "cell_type": "code",
   "execution_count": 2,
   "metadata": {},
   "outputs": [],
   "source": [
    "import numpy as np\n",
    "import scipy.linalg as linalg"
   ]
  },
  {
   "cell_type": "markdown",
   "metadata": {},
   "source": [
    "#1\n",
    "<br>\n",
    "After the coordinates of the circle are subtitude in the given equations, these are the result:\n",
    "<br>\n",
    "$$ -2a + 7b + c = -53 $$\n",
    "$$ -4a + 5b + c = -41 $$\n",
    "$$ 4a - 3b + c = -25 $$\n",
    "<br>\n",
    "\n",
    "So, we can define A and b as:\n",
    "<br>\n",
    "$$A = \\begin{bmatrix} -2 & 7 & 1 \\\\ -4 & 5 & 1 \\\\ 4 & -3 & 1 \\end{bmatrix}$$ \n",
    "and $$b = \\begin{bmatrix} -53 \\\\  -41 \\\\ -25 \\\\ \\end{bmatrix}$$"
   ]
  },
  {
   "cell_type": "code",
   "execution_count": 3,
   "metadata": {},
   "outputs": [
    {
     "name": "stdout",
     "output_type": "stream",
     "text": [
      "--------------- A --------------- \n",
      " [[-2  7  1]\n",
      " [-4  5  1]\n",
      " [ 4 -3  1]]\n",
      "--------------- b --------------- \n",
      " [[-53]\n",
      " [-41]\n",
      " [-25]]\n",
      "--------------- result --------------- \n",
      " [[ -2.]\n",
      " [ -4.]\n",
      " [-29.]]\n"
     ]
    }
   ],
   "source": [
    "# create array A and b\n",
    "A = np.array([[-2,7,1],\n",
    "             [-4,5,1], \n",
    "             [4,-3,1]])\n",
    "b = np.array([[-53,-41,-25]]).T\n",
    "print(\"--------------- A --------------- \\n\", A)\n",
    "print(\"--------------- b --------------- \\n\", b)\n",
    "\n",
    "# create x as the result \n",
    "x = linalg.solve(A, b)\n",
    "print(\"--------------- result --------------- \\n\", x)\n",
    "\n",
    "#TODO check if the result is correct"
   ]
  },
  {
   "cell_type": "markdown",
   "metadata": {},
   "source": [
    "As the result, a , b, and c are:\n",
    "<br>\n",
    "$$a = -2$$\n",
    "\n",
    "$$b = -4$$\n",
    "\n",
    "$$c = -29$$\n",
    "***"
   ]
  },
  {
   "cell_type": "markdown",
   "metadata": {},
   "source": [
    "#2\n",
    "<br>\n",
    "According to the conditions E1, E2, E3, and E4 can be written as:\n",
    "$$E_1 = BA^{-1}$$\n",
    "$$E_2 = AB^{-1}$$\n",
    "$$E_3 = CA^{-1}$$\n",
    "$$E_4 = AC^{-1}$$"
   ]
  },
  {
   "cell_type": "code",
   "execution_count": 4,
   "metadata": {},
   "outputs": [
    {
     "name": "stdout",
     "output_type": "stream",
     "text": [
      "--------------- E1 ---------------\n",
      " [[ 0.  0.  1.]\n",
      " [-0.  1.  0.]\n",
      " [ 1. -0.  0.]]\n",
      "--------------- E2 ---------------\n",
      " [[ 0. -0.  1.]\n",
      " [ 0.  1. -0.]\n",
      " [ 1.  0.  0.]]\n",
      "--------------- E3 ---------------\n",
      " [[ 1. -0.  0.]\n",
      " [-0.  1.  0.]\n",
      " [-2.  0.  1.]]\n",
      "--------------- E4 ---------------\n",
      " [[ 1.  0.  0.]\n",
      " [ 0.  1. -0.]\n",
      " [ 2.  0.  1.]]\n"
     ]
    }
   ],
   "source": [
    "A = np.array([[3, 4, 1],\n",
    "             [2, -7, -1],\n",
    "             [8, 1, 5]])\n",
    "\n",
    "B = np.array([[8, 1, 5],\n",
    "             [2, -7, -1],\n",
    "             [3, 4, 1]])\n",
    "\n",
    "C = np.array([[3, 4, 1],\n",
    "             [2, -7, -1],\n",
    "             [2, -7, 3]])\n",
    "\n",
    "# calculate inverse\n",
    "A_inv = np.linalg.inv(A)\n",
    "B_inv = np.linalg.inv(B)\n",
    "C_inv = np.linalg.inv(C)\n",
    "\n",
    "# multiplying matrix\n",
    "\n",
    "E_1 = np.matmul(B, A_inv)\n",
    "E = np.rint(E_1)\n",
    "print(\"--------------- E1 ---------------\\n\", E)\n",
    "E_2 = np.matmul(A, B_inv)\n",
    "E = np.rint(E_2)\n",
    "print(\"--------------- E2 ---------------\\n\", E)\n",
    "E_3 = np.matmul(C, A_inv)\n",
    "E = np.rint(E_3)\n",
    "print(\"--------------- E3 ---------------\\n\", E)\n",
    "E_4 = np.matmul(A, C_inv)\n",
    "E = np.rint(E_4)\n",
    "print(\"--------------- E4 ---------------\\n\", E)\n",
    "\n",
    "#TODO check if the result is correct"
   ]
  },
  {
   "cell_type": "markdown",
   "metadata": {},
   "source": [
    "As a result, the elementary matrices are:\n",
    "$$E_1 = \\begin{bmatrix} 0 & 0 & 1 \\\\ 0 & 1 & 0 \\\\ 1 & 0 & 0 \\end{bmatrix}$$\n",
    "$$E_2 = \\begin{bmatrix} 0 & 0 & 1 \\\\ 0 & 1 & 0 \\\\ 1 & 0 & 0 \\end{bmatrix}$$\n",
    "$$E_3 = \\begin{bmatrix} 1 & 0 & 0 \\\\ 0 & 1 & 0 \\\\ 2 & 0 & 1 \\end{bmatrix}$$\n",
    "$$E_4 = \\begin{bmatrix} 1 & 0 & 0 \\\\ 0 & 1 & 0 \\\\ 2 & 0 & 1 \\end{bmatrix}$$\n",
    "\n",
    "***"
   ]
  },
  {
   "cell_type": "markdown",
   "metadata": {},
   "source": [
    "#3\n",
    "<br>\n",
    "For avoiding the pivoting issue in numpy, the doolittle algorithm is used to calculate the matrix L and U. The algorithm can be written as:"
   ]
  },
  {
   "cell_type": "code",
   "execution_count": 5,
   "metadata": {},
   "outputs": [],
   "source": [
    "def LUdecomp(a):\n",
    "    n = len(a)\n",
    "    for k in range(0, n-1):\n",
    "        for i in range(k+1, n):\n",
    "            if a[i, k] != 0.0:\n",
    "                lam = a[i, k]/a[k, k]\n",
    "                a[i, k+1:n] = a[i, k+1:n] - lam*a[k, k+1:n]\n",
    "                a[i, k] = lam\n",
    "    return a\n"
   ]
  },
  {
   "cell_type": "markdown",
   "metadata": {},
   "source": [
    "Ref: https://stackoverflow.com/questions/48370944/lu-decomp-without-pivoting-in-python"
   ]
  },
  {
   "cell_type": "code",
   "execution_count": 6,
   "metadata": {},
   "outputs": [
    {
     "name": "stdout",
     "output_type": "stream",
     "text": [
      "A_doo:\n",
      " [[3 1]\n",
      " [3 2]]\n",
      "L_doo:\n",
      " [[1 0]\n",
      " [3 1]]\n",
      "U_doo:\n",
      " [[3 1]\n",
      " [0 2]]\n",
      "ALU: \n",
      " [[3 1]\n",
      " [9 5]]\n"
     ]
    }
   ],
   "source": [
    "# for (a)\n",
    "\n",
    "A = np.array([[3,1],\n",
    "             [9,5]])\n",
    "\n",
    "A_doo = LUdecomp(A)\n",
    "print(\"A_doo:\\n\", A_doo)\n",
    "\n",
    "L_doo = np.array([[1, 0],\n",
    "                 [A_doo[1, 0], 1]])\n",
    "U_doo = np.array([[A_doo[0, 0],\n",
    "                 A_doo[0, 1]], \n",
    "                 [0, A_doo[1, 1]]])\n",
    "print(\"L_doo:\\n\", L_doo)\n",
    "print(\"U_doo:\\n\", U_doo)\n",
    "\n",
    "# check if L and U are correct\n",
    "ALU_doo = np.dot(L_doo, U_doo)\n",
    "print(\"ALU: \\n\", ALU_doo)\n"
   ]
  },
  {
   "cell_type": "markdown",
   "metadata": {},
   "source": [
    "The answers for (a) are:\n",
    "$$L = \\begin{bmatrix} 1 & 0 \\\\ 3 & 1 \\end{bmatrix}$$\n",
    "$$U = \\begin{bmatrix} 3 & 1 \\\\ 0 & 2 \\end{bmatrix}$$"
   ]
  },
  {
   "cell_type": "code",
   "execution_count": 7,
   "metadata": {},
   "outputs": [
    {
     "name": "stdout",
     "output_type": "stream",
     "text": [
      "B_doo:\n",
      " [[ 1  1  1]\n",
      " [ 3  2  3]\n",
      " [-2  2  3]]\n",
      "L:\n",
      " [[ 1  0  0]\n",
      " [ 3  1  0]\n",
      " [-2  2  1]]\n",
      "U:\n",
      " [[1 1 1]\n",
      " [0 2 3]\n",
      " [0 0 3]]\n"
     ]
    }
   ],
   "source": [
    "# for (b)\n",
    "\n",
    "B = np.array([[1,1,1],\n",
    "             [3,5,6],\n",
    "              [-2,2,7]])\n",
    "\n",
    "B_doo = LUdecomp(B)\n",
    "print(\"B_doo:\\n\", B_doo)\n",
    "\n",
    "L_doo = np.array([[1, 0, 0],\n",
    "                 [B_doo[1, 0], 1, 0],\n",
    "                 [B_doo[2, 0], B_doo[2, 1], 1]])\n",
    "print(\"L:\\n\", L_doo)\n",
    "\n",
    "U_doo = np.array([[B_doo[0, 0], B_doo[0, 1], B_doo[0, 2]],\n",
    "                 [0, B_doo[1, 1], B_doo[1, 2]], \n",
    "                 [0, 0, B_doo[2, 2]]])\n",
    "print(\"U:\\n\", U_doo)\n"
   ]
  },
  {
   "cell_type": "markdown",
   "metadata": {},
   "source": [
    "The answers for (b) are: \n",
    "\n",
    "$$L = \\begin{bmatrix} 1 & 0 & 0 \\\\ 3 & 1 & 0 \\\\ -2 & 2 & 1 \\end{bmatrix}$$\n",
    "$$U = \\begin{bmatrix} 1 & 1 & 1 \\\\ 0 & 2 & 3 \\\\ 0 & 0 & 3 \\end{bmatrix}$$\n",
    "\n",
    "\n",
    "***"
   ]
  },
  {
   "cell_type": "markdown",
   "metadata": {},
   "source": [
    "#5\n",
    "<br>\n",
    "Compare the computational time for solving a system of 10x10, 50x50, 100x100, and 500x500 between 2 different methods: gauss elimination and matrix inversion. The percentage difference is calculated by the formula:\n",
    "$$\\% t_{diff} = 100 \\times \\dfrac {t_{inv} - t_{gauss}} {t_{gauss}}$$"
   ]
  },
  {
   "cell_type": "code",
   "execution_count": 8,
   "metadata": {},
   "outputs": [
    {
     "name": "stdout",
     "output_type": "stream",
     "text": [
      "avg time: 0.766 ms\n"
     ]
    }
   ],
   "source": [
    "import time\n",
    "t_sum = 0\n",
    "\n",
    "for _ in range(1000):\n",
    "    A = np.random.randn(100,100)\n",
    "    b = np.random.randn(100,)\n",
    "    t1 = time.process_time()\n",
    "    x = np.dot(np.linalg.inv(A), b)\n",
    "    t2 = time.process_time()\n",
    "    t_sum += t2 - t1\n",
    "t_avg = t_sum/1000\n",
    "t_avg_ms = t_avg * 1000\n",
    "print(f\"avg time: {t_avg_ms:.3f} ms\")"
   ]
  }
 ],
 "metadata": {
  "kernelspec": {
   "display_name": "Python 3.8.10 64-bit",
   "language": "python",
   "name": "python3"
  },
  "language_info": {
   "codemirror_mode": {
    "name": "ipython",
    "version": 3
   },
   "file_extension": ".py",
   "mimetype": "text/x-python",
   "name": "python",
   "nbconvert_exporter": "python",
   "pygments_lexer": "ipython3",
   "version": "3.8.10"
  },
  "orig_nbformat": 4,
  "vscode": {
   "interpreter": {
    "hash": "767d51c1340bd893661ea55ea3124f6de3c7a262a8b4abca0554b478b1e2ff90"
   }
  }
 },
 "nbformat": 4,
 "nbformat_minor": 2
}
