{
 "cells": [
  {
   "cell_type": "code",
   "execution_count": null,
   "metadata": {},
   "outputs": [],
   "source": [
    "import numpy as np\n",
    "import scipy.linalg as linalg"
   ]
  },
  {
   "cell_type": "markdown",
   "metadata": {},
   "source": [
    "#1\n",
    "<br>\n",
    "After the coordinates of the circle are subtitude in the given equations, these are the result:\n",
    "<br>\n",
    "(1) -2a + 7b + c = -53\n",
    "<br>\n",
    "(2) -4a + 5b + c = -41\n",
    "<br>\n",
    "(3) 4a - 3b + c = -25\n",
    "<br>\n",
    "\n",
    "So, we can define A and b as:\n",
    "<br>\n",
    "$$A = \\begin{bmatrix} -2 & 7 & 1 \\\\ -4 & 5 & 1 \\\\ 4 & -3 & 1 \\end{bmatrix}$$ \n",
    "and $$b = \\begin{bmatrix} -53 \\\\  -41 \\\\ -25 \\\\ \\end{bmatrix}$$"
   ]
  },
  {
   "cell_type": "code",
   "execution_count": 2,
   "metadata": {},
   "outputs": [
    {
     "name": "stdout",
     "output_type": "stream",
     "text": [
      "--------------- A --------------- \n",
      " [[-2  7  1]\n",
      " [-4  5  1]\n",
      " [ 4 -3  1]]\n",
      "--------------- b --------------- \n",
      " [[-53]\n",
      " [-41]\n",
      " [-25]]\n",
      "--------------- result --------------- \n",
      " [[ -2.]\n",
      " [ -4.]\n",
      " [-29.]]\n"
     ]
    }
   ],
   "source": [
    "# create array A and b\n",
    "A = np.array([[-2,7,1],\n",
    "             [-4,5,1], \n",
    "             [4,-3,1]])\n",
    "b = np.array([[-53,-41,-25]]).T\n",
    "print(\"--------------- A --------------- \\n\", A)\n",
    "print(\"--------------- b --------------- \\n\", b)\n",
    "\n",
    "# create x as the result \n",
    "x = linalg.solve(A, b)\n",
    "print(\"--------------- result --------------- \\n\", x)\n",
    "\n",
    "#TODO check if the result is correct"
   ]
  },
  {
   "cell_type": "markdown",
   "metadata": {},
   "source": [
    "As the result, a , b, and c are:\n",
    "<br>\n",
    "$$a = -2$$\n",
    "\n",
    "$$b = -4$$\n",
    "\n",
    "$$c = -29$$\n",
    "***"
   ]
  },
  {
   "cell_type": "markdown",
   "metadata": {},
   "source": [
    "#2\n",
    "<br>\n",
    "According to the conditions E1, E2, E3, and E4 can be written as:\n",
    "$$E_1 = BA^{-1}$$\n",
    "$$E_2 = AB^{-1}$$\n",
    "$$E_3 = CA^{-1}$$\n",
    "$$E_4 = AC^{-1}$$"
   ]
  },
  {
   "cell_type": "code",
   "execution_count": 13,
   "metadata": {},
   "outputs": [
    {
     "name": "stdout",
     "output_type": "stream",
     "text": [
      "--------------- E1 ---------------\n",
      " [[ 0.  0.  1.]\n",
      " [-0.  1.  0.]\n",
      " [ 1.  0.  0.]]\n",
      "--------------- E2 ---------------\n",
      " [[ 0.  0.  1.]\n",
      " [ 0.  1. -0.]\n",
      " [ 1.  0.  0.]]\n",
      "--------------- E3 ---------------\n",
      " [[ 1.  0.  0.]\n",
      " [-0.  1.  0.]\n",
      " [-2.  0.  1.]]\n",
      "--------------- E4 ---------------\n",
      " [[ 1. -0.  0.]\n",
      " [-0.  1.  0.]\n",
      " [ 2.  0.  1.]]\n"
     ]
    }
   ],
   "source": [
    "A = np.array([[3, 4, 1],\n",
    "             [2, -7, -1],\n",
    "             [8, 1, 5]])\n",
    "\n",
    "B = np.array([[8, 1, 5],\n",
    "             [2, -7, -1],\n",
    "             [3, 4, 1]])\n",
    "\n",
    "C = np.array([[3, 4, 1],\n",
    "             [2, -7, -1],\n",
    "             [2, -7, 3]])\n",
    "\n",
    "# calculate inverse\n",
    "A_inv = np.linalg.inv(A)\n",
    "B_inv = np.linalg.inv(B)\n",
    "C_inv = np.linalg.inv(C)\n",
    "\n",
    "# multiplying matrix\n",
    "\n",
    "E_1 = np.matmul(B, A_inv)\n",
    "E = np.rint(E_1)\n",
    "print(\"--------------- E1 ---------------\\n\", E)\n",
    "E_2 = np.matmul(A, B_inv)\n",
    "E = np.rint(E_2)\n",
    "print(\"--------------- E2 ---------------\\n\", E)\n",
    "E_3 = np.matmul(C, A_inv)\n",
    "E = np.rint(E_3)\n",
    "print(\"--------------- E3 ---------------\\n\", E)\n",
    "E_4 = np.matmul(A, C_inv)\n",
    "E = np.rint(E_4)\n",
    "print(\"--------------- E4 ---------------\\n\", E)\n",
    "\n",
    "#TODO check if the result is correct"
   ]
  },
  {
   "cell_type": "markdown",
   "metadata": {},
   "source": [
    "As a result, the elementary matrices are:\n",
    "$$E_1 = \\begin{bmatrix} 0 & 0 & 1 \\\\ 0 & 1 & 0 \\\\ 1 & 0 & 0 \\end{bmatrix}$$\n",
    "$$E_2 = \\begin{bmatrix} 0 & 0 & 1 \\\\ 0 & 1 & 0 \\\\ 1 & 0 & 0 \\end{bmatrix}$$\n",
    "$$E_3 = \\begin{bmatrix} 1 & 0 & 0 \\\\ 0 & 1 & 0 \\\\ 2 & 0 & 1 \\end{bmatrix}$$\n",
    "$$E_4 = \\begin{bmatrix} 1 & 0 & 0 \\\\ 0 & 1 & 0 \\\\ 2 & 0 & 1 \\end{bmatrix}$$\n",
    "\n",
    "***"
   ]
  },
  {
   "cell_type": "markdown",
   "metadata": {},
   "source": []
  },
  {
   "cell_type": "code",
   "execution_count": null,
   "metadata": {},
   "outputs": [],
   "source": []
  }
 ],
 "metadata": {
  "kernelspec": {
   "display_name": "Python 3.9.13 64-bit (windows store)",
   "language": "python",
   "name": "python3"
  },
  "language_info": {
   "codemirror_mode": {
    "name": "ipython",
    "version": 3
   },
   "file_extension": ".py",
   "mimetype": "text/x-python",
   "name": "python",
   "nbconvert_exporter": "python",
   "pygments_lexer": "ipython3",
   "version": "3.9.13"
  },
  "orig_nbformat": 4,
  "vscode": {
   "interpreter": {
    "hash": "4d3661f7ec0a29e53e5b13764145c672074ee7625ed7adb5161463e35847e115"
   }
  }
 },
 "nbformat": 4,
 "nbformat_minor": 2
}
