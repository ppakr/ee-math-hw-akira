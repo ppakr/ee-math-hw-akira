{
 "cells": [
  {
   "cell_type": "markdown",
   "metadata": {},
   "source": [
    "#1\n",
    "After the coordinates of the circle are subtitude in the given equations, these are the result:\n",
    "\n",
    "(1) -2a + 7b + c = -53\n",
    "(2) -4a + 5b + c = -41\n",
    "(3) 4a - 3b + c = -25\n"
   ]
  },
  {
   "cell_type": "code",
   "execution_count": 2,
   "metadata": {},
   "outputs": [
    {
     "name": "stdout",
     "output_type": "stream",
     "text": [
      "--------------- A --------------- \n",
      " [[-2  7  1]\n",
      " [-4  5  1]\n",
      " [ 4 -3  1]]\n",
      "--------------- b --------------- \n",
      " [[-53]\n",
      " [-41]\n",
      " [-25]]\n",
      "--------------- result --------------- \n",
      " [[ -2.]\n",
      " [ -4.]\n",
      " [-29.]]\n"
     ]
    }
   ],
   "source": [
    "import scipy.linalg as linalg\n",
    "import numpy as np\n",
    "\n",
    "# use lower-upper triangles to describe A\n",
    "\n",
    "#TODO create array A and b\n",
    "A = np.array([[-2,7,1],\n",
    "             [-4,5,1], \n",
    "             [4,-3,1]])\n",
    "b = np.array([[-53,-41,-25]]).T\n",
    "print(\"--------------- A --------------- \\n\", A)\n",
    "print(\"--------------- b --------------- \\n\", b)\n",
    "\n",
    "x = linalg.solve(A, b)\n",
    "print(\"--------------- result --------------- \\n\", x)\n"
   ]
  },
  {
   "cell_type": "markdown",
   "metadata": {},
   "source": [
    "As the result, a , b, and c are:\n",
    "\n",
    "a = -2\n",
    "b = -4\n",
    "c = -29"
   ]
  }
 ],
 "metadata": {
  "kernelspec": {
   "display_name": "Python 3.9.13 64-bit (windows store)",
   "language": "python",
   "name": "python3"
  },
  "language_info": {
   "codemirror_mode": {
    "name": "ipython",
    "version": 3
   },
   "file_extension": ".py",
   "mimetype": "text/x-python",
   "name": "python",
   "nbconvert_exporter": "python",
   "pygments_lexer": "ipython3",
   "version": "3.9.13"
  },
  "orig_nbformat": 4,
  "vscode": {
   "interpreter": {
    "hash": "4d3661f7ec0a29e53e5b13764145c672074ee7625ed7adb5161463e35847e115"
   }
  }
 },
 "nbformat": 4,
 "nbformat_minor": 2
}
