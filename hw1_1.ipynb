{
 "cells": [
  {
   "cell_type": "markdown",
   "metadata": {},
   "source": [
    "#1\n",
    "After the coordinates of the circle are subtitude in the given equations, these are the result:\n",
    "\n",
    "(1) -2a + 7b + c = -53\n",
    "(2) -4a + 5b + c = -41\n",
    "(3) 4a - 3b + c = -25\n"
   ]
  },
  {
   "cell_type": "code",
   "execution_count": 11,
   "metadata": {},
   "outputs": [
    {
     "name": "stdout",
     "output_type": "stream",
     "text": [
      "A [[-2  7  1]\n",
      " [-4  5  1]\n",
      " [ 4 -3  1]]\n",
      "b [[-53]\n",
      " [-41]\n",
      " [-25]]\n",
      "result [[ -2.]\n",
      " [ -4.]\n",
      " [-29.]]\n"
     ]
    }
   ],
   "source": [
    "import scipy.linalg as linalg\n",
    "import numpy as np\n",
    "\n",
    "# use lower-upper triangles to describe A\n",
    "\n",
    "#TODO create array A and b\n",
    "A = np.array([[-2,7,1],\n",
    "             [-4,5,1], \n",
    "             [4,-3,1]])\n",
    "b = np.array([[-53,-41,-25]]).T\n",
    "print(\"A\", A)\n",
    "print(\"b\", b)\n",
    "\n",
    "temp = linalg.solve(A, b)\n",
    "print(\"result\", temp)\n"
   ]
  }
 ],
 "metadata": {
  "interpreter": {
   "hash": "a0b743e3f46610aef585505bfb8ed266070dd1178baff540cb1eb86ae22f2f85"
  },
  "kernelspec": {
   "display_name": "Python 3.9.13 64-bit",
   "language": "python",
   "name": "python3"
  },
  "language_info": {
   "codemirror_mode": {
    "name": "ipython",
    "version": 3
   },
   "file_extension": ".py",
   "mimetype": "text/x-python",
   "name": "python",
   "nbconvert_exporter": "python",
   "pygments_lexer": "ipython3",
   "version": "3.9.13"
  },
  "orig_nbformat": 4
 },
 "nbformat": 4,
 "nbformat_minor": 2
}
